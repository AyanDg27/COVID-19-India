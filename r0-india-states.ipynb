Python 3.7.1 (default, Dec 10 2018, 22:54:23) [MSC v.1915 64 bit (AMD64)]
Type "copyright", "credits" or "license" for more information.

IPython 7.2.0 -- An enhanced Interactive Python.

import pandas as pd
df = pd.read_csv('r0-india-states.csv')
df.head()
Out[1]: 
    Date  India  ...  Uttarakhand  West Bengal
0  43920   1347  ...            7           22
1  43921   1635  ...            7           37
2  43922   2059  ...            7           37
3  43923   2545  ...           10           53
4  43924   2974  ...           10           53

[5 rows x 39 columns]

import numpy as np

for i in range(1, 39):
    if df[list(df)[i]][0] == 0:
        print(list(df)[i], ":", 1)
    else:
        print(list(df)[i], ":", ((np.log(130000000/((1/(df[list(df)[i]][4]/(df[list(df)[i]][0]*130000000)))-1)))/4)+1)
India : 1.1980069918983367
Andaman and Nicobar Islands : 1.0000000019230768
Andhra Pradesh : 1.4864775507253671
Arunachal Pradesh : 1
Assam : 1.748933106850039
Bihar : 1.1732867989861402
Chandigarh : 1.0813556027713789
Chhattisgarh : 1.0294457610775574
Dadra and Nagar Haveli : 1
Daman and Diu : 1
Delhi : 1.3439829011340918
Goa : 1.045580391506181
Gujarat : 1.0763454149976857
Haryana : 1.086717738680978
Himachal Pradesh : 1.1732867989861402
Jammu and Kashmir : 1.106416956799906
Jharkhand : 1.1732867989861402
Karnataka : 1.0852926920556791
Kerala : 1.0579135626699214
Ladakh : 1.0000000019230768
Lakshwadeep : 1
Madhya Pradesh : 1.252416205941136
Maharashtra : 1.1805336833175755
Manipur : 1.1732867989861402
Meghalaya : 1
Mizoram : 1.0000000019230768
Nagaland : 1
Odisha : 1.1469466696870683
Puducherry : 1.4023594877239098
Punjab : 1.0641799641978822
Rajasthan : 1.6212266855239243
Sikkim : 1
Tamil Nadu : 1.4534751605731027
Telengana : 1.2724791511444198
Tripura : 1
Uttar Pradesh : 1.145786574781917
Uttarakhand : 1.089168738731936
West Bengal : 1.2198123696813188